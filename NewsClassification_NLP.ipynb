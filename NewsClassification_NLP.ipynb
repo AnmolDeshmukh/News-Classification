{
  "nbformat": 4,
  "nbformat_minor": 0,
  "metadata": {
    "colab": {
      "name": "NewsClassification_NLP.ipynb",
      "provenance": [],
      "collapsed_sections": []
    },
    "kernelspec": {
      "name": "python3",
      "display_name": "Python 3"
    },
    "language_info": {
      "name": "python"
    }
  },
  "cells": [
    {
      "cell_type": "code",
      "metadata": {
        "id": "qGxQayy1kH4h"
      },
      "source": [
        "import nltk"
      ],
      "execution_count": null,
      "outputs": []
    },
    {
      "cell_type": "code",
      "metadata": {
        "colab": {
          "base_uri": "https://localhost:8080/"
        },
        "id": "oD4xsAiZECpe",
        "outputId": "0cb48d39-2002-4dd3-9bff-d38477ccbd4c"
      },
      "source": [
        "nltk.download('punkt')   # Punkt Sentence Tokenizer divides a text into a list of sentences"
      ],
      "execution_count": null,
      "outputs": [
        {
          "output_type": "stream",
          "text": [
            "[nltk_data] Downloading package punkt to /root/nltk_data...\n",
            "[nltk_data]   Unzipping tokenizers/punkt.zip.\n"
          ],
          "name": "stdout"
        },
        {
          "output_type": "execute_result",
          "data": {
            "text/plain": [
              "True"
            ]
          },
          "metadata": {
            "tags": []
          },
          "execution_count": 2
        }
      ]
    },
    {
      "cell_type": "code",
      "metadata": {
        "colab": {
          "base_uri": "https://localhost:8080/"
        },
        "id": "Zjqc3wDOEP39",
        "outputId": "f15d0683-5513-418d-9582-5dffe75e8f80"
      },
      "source": [
        "from google.colab import drive\n",
        "\n",
        "drive.mount('/content/gdrive')"
      ],
      "execution_count": null,
      "outputs": [
        {
          "output_type": "stream",
          "text": [
            "Mounted at /content/gdrive\n"
          ],
          "name": "stdout"
        }
      ]
    },
    {
      "cell_type": "code",
      "metadata": {
        "id": "iwfJcgIYF9ia"
      },
      "source": [
        "import pandas as pd\n"
      ],
      "execution_count": null,
      "outputs": []
    },
    {
      "cell_type": "code",
      "metadata": {
        "id": "We_ecat5GXnb"
      },
      "source": [
        "fake = pd.read_csv(\"/content/gdrive/MyDrive/Dataset/Fake-210604-161841.csv\")\n",
        "real = pd.read_csv(\"/content/gdrive/MyDrive/Dataset/True-210604-161650.csv\")"
      ],
      "execution_count": null,
      "outputs": []
    },
    {
      "cell_type": "code",
      "metadata": {
        "colab": {
          "base_uri": "https://localhost:8080/",
          "height": 359
        },
        "id": "PyZ7ROnqIWOi",
        "outputId": "a455d51a-0ea1-40cd-f0f3-72627e567950"
      },
      "source": [
        "display(fake.head(10))"
      ],
      "execution_count": null,
      "outputs": [
        {
          "output_type": "display_data",
          "data": {
            "text/html": [
              "<div>\n",
              "<style scoped>\n",
              "    .dataframe tbody tr th:only-of-type {\n",
              "        vertical-align: middle;\n",
              "    }\n",
              "\n",
              "    .dataframe tbody tr th {\n",
              "        vertical-align: top;\n",
              "    }\n",
              "\n",
              "    .dataframe thead th {\n",
              "        text-align: right;\n",
              "    }\n",
              "</style>\n",
              "<table border=\"1\" class=\"dataframe\">\n",
              "  <thead>\n",
              "    <tr style=\"text-align: right;\">\n",
              "      <th></th>\n",
              "      <th>title</th>\n",
              "      <th>text</th>\n",
              "      <th>subject</th>\n",
              "      <th>date</th>\n",
              "    </tr>\n",
              "  </thead>\n",
              "  <tbody>\n",
              "    <tr>\n",
              "      <th>0</th>\n",
              "      <td>Donald Trump Sends Out Embarrassing New Year’...</td>\n",
              "      <td>Donald Trump just couldn t wish all Americans ...</td>\n",
              "      <td>News</td>\n",
              "      <td>December 31, 2017</td>\n",
              "    </tr>\n",
              "    <tr>\n",
              "      <th>1</th>\n",
              "      <td>Drunk Bragging Trump Staffer Started Russian ...</td>\n",
              "      <td>House Intelligence Committee Chairman Devin Nu...</td>\n",
              "      <td>News</td>\n",
              "      <td>December 31, 2017</td>\n",
              "    </tr>\n",
              "    <tr>\n",
              "      <th>2</th>\n",
              "      <td>Sheriff David Clarke Becomes An Internet Joke...</td>\n",
              "      <td>On Friday, it was revealed that former Milwauk...</td>\n",
              "      <td>News</td>\n",
              "      <td>December 30, 2017</td>\n",
              "    </tr>\n",
              "    <tr>\n",
              "      <th>3</th>\n",
              "      <td>Trump Is So Obsessed He Even Has Obama’s Name...</td>\n",
              "      <td>On Christmas day, Donald Trump announced that ...</td>\n",
              "      <td>News</td>\n",
              "      <td>December 29, 2017</td>\n",
              "    </tr>\n",
              "    <tr>\n",
              "      <th>4</th>\n",
              "      <td>Pope Francis Just Called Out Donald Trump Dur...</td>\n",
              "      <td>Pope Francis used his annual Christmas Day mes...</td>\n",
              "      <td>News</td>\n",
              "      <td>December 25, 2017</td>\n",
              "    </tr>\n",
              "    <tr>\n",
              "      <th>5</th>\n",
              "      <td>Racist Alabama Cops Brutalize Black Boy While...</td>\n",
              "      <td>The number of cases of cops brutalizing and ki...</td>\n",
              "      <td>News</td>\n",
              "      <td>December 25, 2017</td>\n",
              "    </tr>\n",
              "    <tr>\n",
              "      <th>6</th>\n",
              "      <td>Fresh Off The Golf Course, Trump Lashes Out A...</td>\n",
              "      <td>Donald Trump spent a good portion of his day a...</td>\n",
              "      <td>News</td>\n",
              "      <td>December 23, 2017</td>\n",
              "    </tr>\n",
              "    <tr>\n",
              "      <th>7</th>\n",
              "      <td>Trump Said Some INSANELY Racist Stuff Inside ...</td>\n",
              "      <td>In the wake of yet another court decision that...</td>\n",
              "      <td>News</td>\n",
              "      <td>December 23, 2017</td>\n",
              "    </tr>\n",
              "    <tr>\n",
              "      <th>8</th>\n",
              "      <td>Former CIA Director Slams Trump Over UN Bully...</td>\n",
              "      <td>Many people have raised the alarm regarding th...</td>\n",
              "      <td>News</td>\n",
              "      <td>December 22, 2017</td>\n",
              "    </tr>\n",
              "    <tr>\n",
              "      <th>9</th>\n",
              "      <td>WATCH: Brand-New Pro-Trump Ad Features So Muc...</td>\n",
              "      <td>Just when you might have thought we d get a br...</td>\n",
              "      <td>News</td>\n",
              "      <td>December 21, 2017</td>\n",
              "    </tr>\n",
              "  </tbody>\n",
              "</table>\n",
              "</div>"
            ],
            "text/plain": [
              "                                               title  ...               date\n",
              "0   Donald Trump Sends Out Embarrassing New Year’...  ...  December 31, 2017\n",
              "1   Drunk Bragging Trump Staffer Started Russian ...  ...  December 31, 2017\n",
              "2   Sheriff David Clarke Becomes An Internet Joke...  ...  December 30, 2017\n",
              "3   Trump Is So Obsessed He Even Has Obama’s Name...  ...  December 29, 2017\n",
              "4   Pope Francis Just Called Out Donald Trump Dur...  ...  December 25, 2017\n",
              "5   Racist Alabama Cops Brutalize Black Boy While...  ...  December 25, 2017\n",
              "6   Fresh Off The Golf Course, Trump Lashes Out A...  ...  December 23, 2017\n",
              "7   Trump Said Some INSANELY Racist Stuff Inside ...  ...  December 23, 2017\n",
              "8   Former CIA Director Slams Trump Over UN Bully...  ...  December 22, 2017\n",
              "9   WATCH: Brand-New Pro-Trump Ad Features So Muc...  ...  December 21, 2017\n",
              "\n",
              "[10 rows x 4 columns]"
            ]
          },
          "metadata": {
            "tags": []
          }
        }
      ]
    },
    {
      "cell_type": "code",
      "metadata": {
        "colab": {
          "base_uri": "https://localhost:8080/",
          "height": 255
        },
        "id": "lbmAujHvGinD",
        "outputId": "fc6176df-7ade-419f-90e8-2483b33433ba"
      },
      "source": [
        "display(fake.info)"
      ],
      "execution_count": null,
      "outputs": [
        {
          "output_type": "display_data",
          "data": {
            "text/plain": [
              "<bound method DataFrame.info of                                                    title  ...               date\n",
              "0       Donald Trump Sends Out Embarrassing New Year’...  ...  December 31, 2017\n",
              "1       Drunk Bragging Trump Staffer Started Russian ...  ...  December 31, 2017\n",
              "2       Sheriff David Clarke Becomes An Internet Joke...  ...  December 30, 2017\n",
              "3       Trump Is So Obsessed He Even Has Obama’s Name...  ...  December 29, 2017\n",
              "4       Pope Francis Just Called Out Donald Trump Dur...  ...  December 25, 2017\n",
              "...                                                  ...  ...                ...\n",
              "23476  McPain: John McCain Furious That Iran Treated ...  ...   January 16, 2016\n",
              "23477  JUSTICE? Yahoo Settles E-mail Privacy Class-ac...  ...   January 16, 2016\n",
              "23478  Sunnistan: US and Allied ‘Safe Zone’ Plan to T...  ...   January 15, 2016\n",
              "23479  How to Blow $700 Million: Al Jazeera America F...  ...   January 14, 2016\n",
              "23480  10 U.S. Navy Sailors Held by Iranian Military ...  ...   January 12, 2016\n",
              "\n",
              "[23481 rows x 4 columns]>"
            ]
          },
          "metadata": {
            "tags": []
          }
        }
      ]
    },
    {
      "cell_type": "code",
      "metadata": {
        "colab": {
          "base_uri": "https://localhost:8080/"
        },
        "id": "tuVj0D8wG5Sn",
        "outputId": "9316bb50-f369-4663-d8e2-4ef34ee5ba02"
      },
      "source": [
        "print(fake.loc[0])"
      ],
      "execution_count": null,
      "outputs": [
        {
          "output_type": "stream",
          "text": [
            "title       Donald Trump Sends Out Embarrassing New Year’...\n",
            "text       Donald Trump just couldn t wish all Americans ...\n",
            "subject                                                 News\n",
            "date                                       December 31, 2017\n",
            "Name: 0, dtype: object\n"
          ],
          "name": "stdout"
        }
      ]
    },
    {
      "cell_type": "code",
      "metadata": {
        "colab": {
          "base_uri": "https://localhost:8080/",
          "height": 255
        },
        "id": "2FUFk5krG-bS",
        "outputId": "b64881ab-46fe-412b-850d-bbd443c0cb1e"
      },
      "source": [
        "display(real.info)"
      ],
      "execution_count": null,
      "outputs": [
        {
          "output_type": "display_data",
          "data": {
            "text/plain": [
              "<bound method DataFrame.info of                                                    title  ...                date\n",
              "0      As U.S. budget fight looms, Republicans flip t...  ...  December 31, 2017 \n",
              "1      U.S. military to accept transgender recruits o...  ...  December 29, 2017 \n",
              "2      Senior U.S. Republican senator: 'Let Mr. Muell...  ...  December 31, 2017 \n",
              "3      FBI Russia probe helped by Australian diplomat...  ...  December 30, 2017 \n",
              "4      Trump wants Postal Service to charge 'much mor...  ...  December 29, 2017 \n",
              "...                                                  ...  ...                 ...\n",
              "21412  'Fully committed' NATO backs new U.S. approach...  ...    August 22, 2017 \n",
              "21413  LexisNexis withdrew two products from Chinese ...  ...    August 22, 2017 \n",
              "21414  Minsk cultural hub becomes haven from authorities  ...    August 22, 2017 \n",
              "21415  Vatican upbeat on possibility of Pope Francis ...  ...    August 22, 2017 \n",
              "21416  Indonesia to buy $1.14 billion worth of Russia...  ...    August 22, 2017 \n",
              "\n",
              "[21417 rows x 4 columns]>"
            ]
          },
          "metadata": {
            "tags": []
          }
        }
      ]
    },
    {
      "cell_type": "code",
      "metadata": {
        "colab": {
          "base_uri": "https://localhost:8080/",
          "height": 136
        },
        "id": "2YBfYM-zHIVP",
        "outputId": "d5d07b5a-d902-4c54-86b3-fae8078b62ac"
      },
      "source": [
        "display(fake.subject.value_counts())  # https://pandas.pydata.org/docs/reference/api/pandas.Series.value_counts.html"
      ],
      "execution_count": null,
      "outputs": [
        {
          "output_type": "display_data",
          "data": {
            "text/plain": [
              "News               9050\n",
              "politics           6841\n",
              "left-news          4459\n",
              "Government News    1570\n",
              "US_News             783\n",
              "Middle-east         778\n",
              "Name: subject, dtype: int64"
            ]
          },
          "metadata": {
            "tags": []
          }
        }
      ]
    },
    {
      "cell_type": "code",
      "metadata": {
        "colab": {
          "base_uri": "https://localhost:8080/",
          "height": 221
        },
        "id": "6Cb91ScNHkb-",
        "outputId": "3be70a3b-6ffb-42c7-c364-561d4b79fde3"
      },
      "source": [
        "display(fake.subject)"
      ],
      "execution_count": null,
      "outputs": [
        {
          "output_type": "display_data",
          "data": {
            "text/plain": [
              "0               News\n",
              "1               News\n",
              "2               News\n",
              "3               News\n",
              "4               News\n",
              "            ...     \n",
              "23476    Middle-east\n",
              "23477    Middle-east\n",
              "23478    Middle-east\n",
              "23479    Middle-east\n",
              "23480    Middle-east\n",
              "Name: subject, Length: 23481, dtype: object"
            ]
          },
          "metadata": {
            "tags": []
          }
        }
      ]
    },
    {
      "cell_type": "code",
      "metadata": {
        "colab": {
          "base_uri": "https://localhost:8080/",
          "height": 221
        },
        "id": "EXfBFfszH5Ce",
        "outputId": "4d113c14-1c22-47af-f37c-6a8a581e1450"
      },
      "source": [
        "display(fake.text)"
      ],
      "execution_count": null,
      "outputs": [
        {
          "output_type": "display_data",
          "data": {
            "text/plain": [
              "0        Donald Trump just couldn t wish all Americans ...\n",
              "1        House Intelligence Committee Chairman Devin Nu...\n",
              "2        On Friday, it was revealed that former Milwauk...\n",
              "3        On Christmas day, Donald Trump announced that ...\n",
              "4        Pope Francis used his annual Christmas Day mes...\n",
              "                               ...                        \n",
              "23476    21st Century Wire says As 21WIRE reported earl...\n",
              "23477    21st Century Wire says It s a familiar theme. ...\n",
              "23478    Patrick Henningsen  21st Century WireRemember ...\n",
              "23479    21st Century Wire says Al Jazeera America will...\n",
              "23480    21st Century Wire says As 21WIRE predicted in ...\n",
              "Name: text, Length: 23481, dtype: object"
            ]
          },
          "metadata": {
            "tags": []
          }
        }
      ]
    },
    {
      "cell_type": "code",
      "metadata": {
        "id": "y436qvJBIATi"
      },
      "source": [
        "# adding column to the files. Fake is identified by 0 and Real is identified by 1\n",
        "fake['target'] = 0\n",
        "real['target'] = 1"
      ],
      "execution_count": null,
      "outputs": []
    },
    {
      "cell_type": "code",
      "metadata": {
        "colab": {
          "base_uri": "https://localhost:8080/",
          "height": 359
        },
        "id": "_zGp-zHqIQ2z",
        "outputId": "291ad968-c280-4711-e09f-9e7f4e956dae"
      },
      "source": [
        "display(fake.head(10))"
      ],
      "execution_count": null,
      "outputs": [
        {
          "output_type": "display_data",
          "data": {
            "text/html": [
              "<div>\n",
              "<style scoped>\n",
              "    .dataframe tbody tr th:only-of-type {\n",
              "        vertical-align: middle;\n",
              "    }\n",
              "\n",
              "    .dataframe tbody tr th {\n",
              "        vertical-align: top;\n",
              "    }\n",
              "\n",
              "    .dataframe thead th {\n",
              "        text-align: right;\n",
              "    }\n",
              "</style>\n",
              "<table border=\"1\" class=\"dataframe\">\n",
              "  <thead>\n",
              "    <tr style=\"text-align: right;\">\n",
              "      <th></th>\n",
              "      <th>title</th>\n",
              "      <th>text</th>\n",
              "      <th>subject</th>\n",
              "      <th>date</th>\n",
              "      <th>target</th>\n",
              "    </tr>\n",
              "  </thead>\n",
              "  <tbody>\n",
              "    <tr>\n",
              "      <th>0</th>\n",
              "      <td>Donald Trump Sends Out Embarrassing New Year’...</td>\n",
              "      <td>Donald Trump just couldn t wish all Americans ...</td>\n",
              "      <td>News</td>\n",
              "      <td>December 31, 2017</td>\n",
              "      <td>0</td>\n",
              "    </tr>\n",
              "    <tr>\n",
              "      <th>1</th>\n",
              "      <td>Drunk Bragging Trump Staffer Started Russian ...</td>\n",
              "      <td>House Intelligence Committee Chairman Devin Nu...</td>\n",
              "      <td>News</td>\n",
              "      <td>December 31, 2017</td>\n",
              "      <td>0</td>\n",
              "    </tr>\n",
              "    <tr>\n",
              "      <th>2</th>\n",
              "      <td>Sheriff David Clarke Becomes An Internet Joke...</td>\n",
              "      <td>On Friday, it was revealed that former Milwauk...</td>\n",
              "      <td>News</td>\n",
              "      <td>December 30, 2017</td>\n",
              "      <td>0</td>\n",
              "    </tr>\n",
              "    <tr>\n",
              "      <th>3</th>\n",
              "      <td>Trump Is So Obsessed He Even Has Obama’s Name...</td>\n",
              "      <td>On Christmas day, Donald Trump announced that ...</td>\n",
              "      <td>News</td>\n",
              "      <td>December 29, 2017</td>\n",
              "      <td>0</td>\n",
              "    </tr>\n",
              "    <tr>\n",
              "      <th>4</th>\n",
              "      <td>Pope Francis Just Called Out Donald Trump Dur...</td>\n",
              "      <td>Pope Francis used his annual Christmas Day mes...</td>\n",
              "      <td>News</td>\n",
              "      <td>December 25, 2017</td>\n",
              "      <td>0</td>\n",
              "    </tr>\n",
              "    <tr>\n",
              "      <th>5</th>\n",
              "      <td>Racist Alabama Cops Brutalize Black Boy While...</td>\n",
              "      <td>The number of cases of cops brutalizing and ki...</td>\n",
              "      <td>News</td>\n",
              "      <td>December 25, 2017</td>\n",
              "      <td>0</td>\n",
              "    </tr>\n",
              "    <tr>\n",
              "      <th>6</th>\n",
              "      <td>Fresh Off The Golf Course, Trump Lashes Out A...</td>\n",
              "      <td>Donald Trump spent a good portion of his day a...</td>\n",
              "      <td>News</td>\n",
              "      <td>December 23, 2017</td>\n",
              "      <td>0</td>\n",
              "    </tr>\n",
              "    <tr>\n",
              "      <th>7</th>\n",
              "      <td>Trump Said Some INSANELY Racist Stuff Inside ...</td>\n",
              "      <td>In the wake of yet another court decision that...</td>\n",
              "      <td>News</td>\n",
              "      <td>December 23, 2017</td>\n",
              "      <td>0</td>\n",
              "    </tr>\n",
              "    <tr>\n",
              "      <th>8</th>\n",
              "      <td>Former CIA Director Slams Trump Over UN Bully...</td>\n",
              "      <td>Many people have raised the alarm regarding th...</td>\n",
              "      <td>News</td>\n",
              "      <td>December 22, 2017</td>\n",
              "      <td>0</td>\n",
              "    </tr>\n",
              "    <tr>\n",
              "      <th>9</th>\n",
              "      <td>WATCH: Brand-New Pro-Trump Ad Features So Muc...</td>\n",
              "      <td>Just when you might have thought we d get a br...</td>\n",
              "      <td>News</td>\n",
              "      <td>December 21, 2017</td>\n",
              "      <td>0</td>\n",
              "    </tr>\n",
              "  </tbody>\n",
              "</table>\n",
              "</div>"
            ],
            "text/plain": [
              "                                               title  ... target\n",
              "0   Donald Trump Sends Out Embarrassing New Year’...  ...      0\n",
              "1   Drunk Bragging Trump Staffer Started Russian ...  ...      0\n",
              "2   Sheriff David Clarke Becomes An Internet Joke...  ...      0\n",
              "3   Trump Is So Obsessed He Even Has Obama’s Name...  ...      0\n",
              "4   Pope Francis Just Called Out Donald Trump Dur...  ...      0\n",
              "5   Racist Alabama Cops Brutalize Black Boy While...  ...      0\n",
              "6   Fresh Off The Golf Course, Trump Lashes Out A...  ...      0\n",
              "7   Trump Said Some INSANELY Racist Stuff Inside ...  ...      0\n",
              "8   Former CIA Director Slams Trump Over UN Bully...  ...      0\n",
              "9   WATCH: Brand-New Pro-Trump Ad Features So Muc...  ...      0\n",
              "\n",
              "[10 rows x 5 columns]"
            ]
          },
          "metadata": {
            "tags": []
          }
        }
      ]
    },
    {
      "cell_type": "code",
      "metadata": {
        "colab": {
          "base_uri": "https://localhost:8080/",
          "height": 359
        },
        "id": "lWo-547TITjI",
        "outputId": "c3b0fb76-6cb7-4733-e08e-8601628d4da7"
      },
      "source": [
        "display(real.head(10))"
      ],
      "execution_count": null,
      "outputs": [
        {
          "output_type": "display_data",
          "data": {
            "text/html": [
              "<div>\n",
              "<style scoped>\n",
              "    .dataframe tbody tr th:only-of-type {\n",
              "        vertical-align: middle;\n",
              "    }\n",
              "\n",
              "    .dataframe tbody tr th {\n",
              "        vertical-align: top;\n",
              "    }\n",
              "\n",
              "    .dataframe thead th {\n",
              "        text-align: right;\n",
              "    }\n",
              "</style>\n",
              "<table border=\"1\" class=\"dataframe\">\n",
              "  <thead>\n",
              "    <tr style=\"text-align: right;\">\n",
              "      <th></th>\n",
              "      <th>title</th>\n",
              "      <th>text</th>\n",
              "      <th>subject</th>\n",
              "      <th>date</th>\n",
              "      <th>target</th>\n",
              "    </tr>\n",
              "  </thead>\n",
              "  <tbody>\n",
              "    <tr>\n",
              "      <th>0</th>\n",
              "      <td>As U.S. budget fight looms, Republicans flip t...</td>\n",
              "      <td>WASHINGTON (Reuters) - The head of a conservat...</td>\n",
              "      <td>politicsNews</td>\n",
              "      <td>December 31, 2017</td>\n",
              "      <td>1</td>\n",
              "    </tr>\n",
              "    <tr>\n",
              "      <th>1</th>\n",
              "      <td>U.S. military to accept transgender recruits o...</td>\n",
              "      <td>WASHINGTON (Reuters) - Transgender people will...</td>\n",
              "      <td>politicsNews</td>\n",
              "      <td>December 29, 2017</td>\n",
              "      <td>1</td>\n",
              "    </tr>\n",
              "    <tr>\n",
              "      <th>2</th>\n",
              "      <td>Senior U.S. Republican senator: 'Let Mr. Muell...</td>\n",
              "      <td>WASHINGTON (Reuters) - The special counsel inv...</td>\n",
              "      <td>politicsNews</td>\n",
              "      <td>December 31, 2017</td>\n",
              "      <td>1</td>\n",
              "    </tr>\n",
              "    <tr>\n",
              "      <th>3</th>\n",
              "      <td>FBI Russia probe helped by Australian diplomat...</td>\n",
              "      <td>WASHINGTON (Reuters) - Trump campaign adviser ...</td>\n",
              "      <td>politicsNews</td>\n",
              "      <td>December 30, 2017</td>\n",
              "      <td>1</td>\n",
              "    </tr>\n",
              "    <tr>\n",
              "      <th>4</th>\n",
              "      <td>Trump wants Postal Service to charge 'much mor...</td>\n",
              "      <td>SEATTLE/WASHINGTON (Reuters) - President Donal...</td>\n",
              "      <td>politicsNews</td>\n",
              "      <td>December 29, 2017</td>\n",
              "      <td>1</td>\n",
              "    </tr>\n",
              "    <tr>\n",
              "      <th>5</th>\n",
              "      <td>White House, Congress prepare for talks on spe...</td>\n",
              "      <td>WEST PALM BEACH, Fla./WASHINGTON (Reuters) - T...</td>\n",
              "      <td>politicsNews</td>\n",
              "      <td>December 29, 2017</td>\n",
              "      <td>1</td>\n",
              "    </tr>\n",
              "    <tr>\n",
              "      <th>6</th>\n",
              "      <td>Trump says Russia probe will be fair, but time...</td>\n",
              "      <td>WEST PALM BEACH, Fla (Reuters) - President Don...</td>\n",
              "      <td>politicsNews</td>\n",
              "      <td>December 29, 2017</td>\n",
              "      <td>1</td>\n",
              "    </tr>\n",
              "    <tr>\n",
              "      <th>7</th>\n",
              "      <td>Factbox: Trump on Twitter (Dec 29) - Approval ...</td>\n",
              "      <td>The following statements were posted to the ve...</td>\n",
              "      <td>politicsNews</td>\n",
              "      <td>December 29, 2017</td>\n",
              "      <td>1</td>\n",
              "    </tr>\n",
              "    <tr>\n",
              "      <th>8</th>\n",
              "      <td>Trump on Twitter (Dec 28) - Global Warming</td>\n",
              "      <td>The following statements were posted to the ve...</td>\n",
              "      <td>politicsNews</td>\n",
              "      <td>December 29, 2017</td>\n",
              "      <td>1</td>\n",
              "    </tr>\n",
              "    <tr>\n",
              "      <th>9</th>\n",
              "      <td>Alabama official to certify Senator-elect Jone...</td>\n",
              "      <td>WASHINGTON (Reuters) - Alabama Secretary of St...</td>\n",
              "      <td>politicsNews</td>\n",
              "      <td>December 28, 2017</td>\n",
              "      <td>1</td>\n",
              "    </tr>\n",
              "  </tbody>\n",
              "</table>\n",
              "</div>"
            ],
            "text/plain": [
              "                                               title  ... target\n",
              "0  As U.S. budget fight looms, Republicans flip t...  ...      1\n",
              "1  U.S. military to accept transgender recruits o...  ...      1\n",
              "2  Senior U.S. Republican senator: 'Let Mr. Muell...  ...      1\n",
              "3  FBI Russia probe helped by Australian diplomat...  ...      1\n",
              "4  Trump wants Postal Service to charge 'much mor...  ...      1\n",
              "5  White House, Congress prepare for talks on spe...  ...      1\n",
              "6  Trump says Russia probe will be fair, but time...  ...      1\n",
              "7  Factbox: Trump on Twitter (Dec 29) - Approval ...  ...      1\n",
              "8         Trump on Twitter (Dec 28) - Global Warming  ...      1\n",
              "9  Alabama official to certify Senator-elect Jone...  ...      1\n",
              "\n",
              "[10 rows x 5 columns]"
            ]
          },
          "metadata": {
            "tags": []
          }
        }
      ]
    },
    {
      "cell_type": "code",
      "metadata": {
        "id": "HKVOvYsEItE8"
      },
      "source": [
        "data = pd.concat([fake, real], axis = 0)"
      ],
      "execution_count": null,
      "outputs": []
    },
    {
      "cell_type": "code",
      "metadata": {
        "colab": {
          "base_uri": "https://localhost:8080/",
          "height": 255
        },
        "id": "7P09s10lJlpQ",
        "outputId": "a20fcc30-6db1-4e23-f9d5-5ddace673d47"
      },
      "source": [
        "display(data.info)"
      ],
      "execution_count": null,
      "outputs": [
        {
          "output_type": "display_data",
          "data": {
            "text/plain": [
              "<bound method DataFrame.info of                                                    title  ... target\n",
              "0       Donald Trump Sends Out Embarrassing New Year’...  ...      0\n",
              "1       Drunk Bragging Trump Staffer Started Russian ...  ...      0\n",
              "2       Sheriff David Clarke Becomes An Internet Joke...  ...      0\n",
              "3       Trump Is So Obsessed He Even Has Obama’s Name...  ...      0\n",
              "4       Pope Francis Just Called Out Donald Trump Dur...  ...      0\n",
              "...                                                  ...  ...    ...\n",
              "21412  'Fully committed' NATO backs new U.S. approach...  ...      1\n",
              "21413  LexisNexis withdrew two products from Chinese ...  ...      1\n",
              "21414  Minsk cultural hub becomes haven from authorities  ...      1\n",
              "21415  Vatican upbeat on possibility of Pope Francis ...  ...      1\n",
              "21416  Indonesia to buy $1.14 billion worth of Russia...  ...      1\n",
              "\n",
              "[44898 rows x 5 columns]>"
            ]
          },
          "metadata": {
            "tags": []
          }
        }
      ]
    },
    {
      "cell_type": "code",
      "metadata": {
        "colab": {
          "base_uri": "https://localhost:8080/",
          "height": 390
        },
        "id": "gLJSG-JKJpXE",
        "outputId": "d0d79584-bc01-4241-f57c-cbf9da64349e"
      },
      "source": [
        "display(data[23476:23487])"
      ],
      "execution_count": null,
      "outputs": [
        {
          "output_type": "display_data",
          "data": {
            "text/html": [
              "<div>\n",
              "<style scoped>\n",
              "    .dataframe tbody tr th:only-of-type {\n",
              "        vertical-align: middle;\n",
              "    }\n",
              "\n",
              "    .dataframe tbody tr th {\n",
              "        vertical-align: top;\n",
              "    }\n",
              "\n",
              "    .dataframe thead th {\n",
              "        text-align: right;\n",
              "    }\n",
              "</style>\n",
              "<table border=\"1\" class=\"dataframe\">\n",
              "  <thead>\n",
              "    <tr style=\"text-align: right;\">\n",
              "      <th></th>\n",
              "      <th>title</th>\n",
              "      <th>text</th>\n",
              "      <th>subject</th>\n",
              "      <th>date</th>\n",
              "      <th>target</th>\n",
              "    </tr>\n",
              "  </thead>\n",
              "  <tbody>\n",
              "    <tr>\n",
              "      <th>23476</th>\n",
              "      <td>McPain: John McCain Furious That Iran Treated ...</td>\n",
              "      <td>21st Century Wire says As 21WIRE reported earl...</td>\n",
              "      <td>Middle-east</td>\n",
              "      <td>January 16, 2016</td>\n",
              "      <td>0</td>\n",
              "    </tr>\n",
              "    <tr>\n",
              "      <th>23477</th>\n",
              "      <td>JUSTICE? Yahoo Settles E-mail Privacy Class-ac...</td>\n",
              "      <td>21st Century Wire says It s a familiar theme. ...</td>\n",
              "      <td>Middle-east</td>\n",
              "      <td>January 16, 2016</td>\n",
              "      <td>0</td>\n",
              "    </tr>\n",
              "    <tr>\n",
              "      <th>23478</th>\n",
              "      <td>Sunnistan: US and Allied ‘Safe Zone’ Plan to T...</td>\n",
              "      <td>Patrick Henningsen  21st Century WireRemember ...</td>\n",
              "      <td>Middle-east</td>\n",
              "      <td>January 15, 2016</td>\n",
              "      <td>0</td>\n",
              "    </tr>\n",
              "    <tr>\n",
              "      <th>23479</th>\n",
              "      <td>How to Blow $700 Million: Al Jazeera America F...</td>\n",
              "      <td>21st Century Wire says Al Jazeera America will...</td>\n",
              "      <td>Middle-east</td>\n",
              "      <td>January 14, 2016</td>\n",
              "      <td>0</td>\n",
              "    </tr>\n",
              "    <tr>\n",
              "      <th>23480</th>\n",
              "      <td>10 U.S. Navy Sailors Held by Iranian Military ...</td>\n",
              "      <td>21st Century Wire says As 21WIRE predicted in ...</td>\n",
              "      <td>Middle-east</td>\n",
              "      <td>January 12, 2016</td>\n",
              "      <td>0</td>\n",
              "    </tr>\n",
              "    <tr>\n",
              "      <th>0</th>\n",
              "      <td>As U.S. budget fight looms, Republicans flip t...</td>\n",
              "      <td>WASHINGTON (Reuters) - The head of a conservat...</td>\n",
              "      <td>politicsNews</td>\n",
              "      <td>December 31, 2017</td>\n",
              "      <td>1</td>\n",
              "    </tr>\n",
              "    <tr>\n",
              "      <th>1</th>\n",
              "      <td>U.S. military to accept transgender recruits o...</td>\n",
              "      <td>WASHINGTON (Reuters) - Transgender people will...</td>\n",
              "      <td>politicsNews</td>\n",
              "      <td>December 29, 2017</td>\n",
              "      <td>1</td>\n",
              "    </tr>\n",
              "    <tr>\n",
              "      <th>2</th>\n",
              "      <td>Senior U.S. Republican senator: 'Let Mr. Muell...</td>\n",
              "      <td>WASHINGTON (Reuters) - The special counsel inv...</td>\n",
              "      <td>politicsNews</td>\n",
              "      <td>December 31, 2017</td>\n",
              "      <td>1</td>\n",
              "    </tr>\n",
              "    <tr>\n",
              "      <th>3</th>\n",
              "      <td>FBI Russia probe helped by Australian diplomat...</td>\n",
              "      <td>WASHINGTON (Reuters) - Trump campaign adviser ...</td>\n",
              "      <td>politicsNews</td>\n",
              "      <td>December 30, 2017</td>\n",
              "      <td>1</td>\n",
              "    </tr>\n",
              "    <tr>\n",
              "      <th>4</th>\n",
              "      <td>Trump wants Postal Service to charge 'much mor...</td>\n",
              "      <td>SEATTLE/WASHINGTON (Reuters) - President Donal...</td>\n",
              "      <td>politicsNews</td>\n",
              "      <td>December 29, 2017</td>\n",
              "      <td>1</td>\n",
              "    </tr>\n",
              "    <tr>\n",
              "      <th>5</th>\n",
              "      <td>White House, Congress prepare for talks on spe...</td>\n",
              "      <td>WEST PALM BEACH, Fla./WASHINGTON (Reuters) - T...</td>\n",
              "      <td>politicsNews</td>\n",
              "      <td>December 29, 2017</td>\n",
              "      <td>1</td>\n",
              "    </tr>\n",
              "  </tbody>\n",
              "</table>\n",
              "</div>"
            ],
            "text/plain": [
              "                                                   title  ... target\n",
              "23476  McPain: John McCain Furious That Iran Treated ...  ...      0\n",
              "23477  JUSTICE? Yahoo Settles E-mail Privacy Class-ac...  ...      0\n",
              "23478  Sunnistan: US and Allied ‘Safe Zone’ Plan to T...  ...      0\n",
              "23479  How to Blow $700 Million: Al Jazeera America F...  ...      0\n",
              "23480  10 U.S. Navy Sailors Held by Iranian Military ...  ...      0\n",
              "0      As U.S. budget fight looms, Republicans flip t...  ...      1\n",
              "1      U.S. military to accept transgender recruits o...  ...      1\n",
              "2      Senior U.S. Republican senator: 'Let Mr. Muell...  ...      1\n",
              "3      FBI Russia probe helped by Australian diplomat...  ...      1\n",
              "4      Trump wants Postal Service to charge 'much mor...  ...      1\n",
              "5      White House, Congress prepare for talks on spe...  ...      1\n",
              "\n",
              "[11 rows x 5 columns]"
            ]
          },
          "metadata": {
            "tags": []
          }
        }
      ]
    },
    {
      "cell_type": "code",
      "metadata": {
        "id": "lSqfXgjDJ_Gs"
      },
      "source": [
        "# since the index of real starts from 0 after concat as seen above, we need to reset the index\n",
        "data = data.reset_index(drop = True)   # if drop = False it will add the old index as a separate column"
      ],
      "execution_count": null,
      "outputs": []
    },
    {
      "cell_type": "code",
      "metadata": {
        "colab": {
          "base_uri": "https://localhost:8080/",
          "height": 390
        },
        "id": "BXiXsxFDKTcV",
        "outputId": "160e50cd-948a-451c-bdec-9ac830c69ba8"
      },
      "source": [
        "display(data[23476:23487])\n",
        "# here we see that the index is reset"
      ],
      "execution_count": null,
      "outputs": [
        {
          "output_type": "display_data",
          "data": {
            "text/html": [
              "<div>\n",
              "<style scoped>\n",
              "    .dataframe tbody tr th:only-of-type {\n",
              "        vertical-align: middle;\n",
              "    }\n",
              "\n",
              "    .dataframe tbody tr th {\n",
              "        vertical-align: top;\n",
              "    }\n",
              "\n",
              "    .dataframe thead th {\n",
              "        text-align: right;\n",
              "    }\n",
              "</style>\n",
              "<table border=\"1\" class=\"dataframe\">\n",
              "  <thead>\n",
              "    <tr style=\"text-align: right;\">\n",
              "      <th></th>\n",
              "      <th>title</th>\n",
              "      <th>text</th>\n",
              "      <th>subject</th>\n",
              "      <th>date</th>\n",
              "      <th>target</th>\n",
              "    </tr>\n",
              "  </thead>\n",
              "  <tbody>\n",
              "    <tr>\n",
              "      <th>23476</th>\n",
              "      <td>McPain: John McCain Furious That Iran Treated ...</td>\n",
              "      <td>21st Century Wire says As 21WIRE reported earl...</td>\n",
              "      <td>Middle-east</td>\n",
              "      <td>January 16, 2016</td>\n",
              "      <td>0</td>\n",
              "    </tr>\n",
              "    <tr>\n",
              "      <th>23477</th>\n",
              "      <td>JUSTICE? Yahoo Settles E-mail Privacy Class-ac...</td>\n",
              "      <td>21st Century Wire says It s a familiar theme. ...</td>\n",
              "      <td>Middle-east</td>\n",
              "      <td>January 16, 2016</td>\n",
              "      <td>0</td>\n",
              "    </tr>\n",
              "    <tr>\n",
              "      <th>23478</th>\n",
              "      <td>Sunnistan: US and Allied ‘Safe Zone’ Plan to T...</td>\n",
              "      <td>Patrick Henningsen  21st Century WireRemember ...</td>\n",
              "      <td>Middle-east</td>\n",
              "      <td>January 15, 2016</td>\n",
              "      <td>0</td>\n",
              "    </tr>\n",
              "    <tr>\n",
              "      <th>23479</th>\n",
              "      <td>How to Blow $700 Million: Al Jazeera America F...</td>\n",
              "      <td>21st Century Wire says Al Jazeera America will...</td>\n",
              "      <td>Middle-east</td>\n",
              "      <td>January 14, 2016</td>\n",
              "      <td>0</td>\n",
              "    </tr>\n",
              "    <tr>\n",
              "      <th>23480</th>\n",
              "      <td>10 U.S. Navy Sailors Held by Iranian Military ...</td>\n",
              "      <td>21st Century Wire says As 21WIRE predicted in ...</td>\n",
              "      <td>Middle-east</td>\n",
              "      <td>January 12, 2016</td>\n",
              "      <td>0</td>\n",
              "    </tr>\n",
              "    <tr>\n",
              "      <th>23481</th>\n",
              "      <td>As U.S. budget fight looms, Republicans flip t...</td>\n",
              "      <td>WASHINGTON (Reuters) - The head of a conservat...</td>\n",
              "      <td>politicsNews</td>\n",
              "      <td>December 31, 2017</td>\n",
              "      <td>1</td>\n",
              "    </tr>\n",
              "    <tr>\n",
              "      <th>23482</th>\n",
              "      <td>U.S. military to accept transgender recruits o...</td>\n",
              "      <td>WASHINGTON (Reuters) - Transgender people will...</td>\n",
              "      <td>politicsNews</td>\n",
              "      <td>December 29, 2017</td>\n",
              "      <td>1</td>\n",
              "    </tr>\n",
              "    <tr>\n",
              "      <th>23483</th>\n",
              "      <td>Senior U.S. Republican senator: 'Let Mr. Muell...</td>\n",
              "      <td>WASHINGTON (Reuters) - The special counsel inv...</td>\n",
              "      <td>politicsNews</td>\n",
              "      <td>December 31, 2017</td>\n",
              "      <td>1</td>\n",
              "    </tr>\n",
              "    <tr>\n",
              "      <th>23484</th>\n",
              "      <td>FBI Russia probe helped by Australian diplomat...</td>\n",
              "      <td>WASHINGTON (Reuters) - Trump campaign adviser ...</td>\n",
              "      <td>politicsNews</td>\n",
              "      <td>December 30, 2017</td>\n",
              "      <td>1</td>\n",
              "    </tr>\n",
              "    <tr>\n",
              "      <th>23485</th>\n",
              "      <td>Trump wants Postal Service to charge 'much mor...</td>\n",
              "      <td>SEATTLE/WASHINGTON (Reuters) - President Donal...</td>\n",
              "      <td>politicsNews</td>\n",
              "      <td>December 29, 2017</td>\n",
              "      <td>1</td>\n",
              "    </tr>\n",
              "    <tr>\n",
              "      <th>23486</th>\n",
              "      <td>White House, Congress prepare for talks on spe...</td>\n",
              "      <td>WEST PALM BEACH, Fla./WASHINGTON (Reuters) - T...</td>\n",
              "      <td>politicsNews</td>\n",
              "      <td>December 29, 2017</td>\n",
              "      <td>1</td>\n",
              "    </tr>\n",
              "  </tbody>\n",
              "</table>\n",
              "</div>"
            ],
            "text/plain": [
              "                                                   title  ... target\n",
              "23476  McPain: John McCain Furious That Iran Treated ...  ...      0\n",
              "23477  JUSTICE? Yahoo Settles E-mail Privacy Class-ac...  ...      0\n",
              "23478  Sunnistan: US and Allied ‘Safe Zone’ Plan to T...  ...      0\n",
              "23479  How to Blow $700 Million: Al Jazeera America F...  ...      0\n",
              "23480  10 U.S. Navy Sailors Held by Iranian Military ...  ...      0\n",
              "23481  As U.S. budget fight looms, Republicans flip t...  ...      1\n",
              "23482  U.S. military to accept transgender recruits o...  ...      1\n",
              "23483  Senior U.S. Republican senator: 'Let Mr. Muell...  ...      1\n",
              "23484  FBI Russia probe helped by Australian diplomat...  ...      1\n",
              "23485  Trump wants Postal Service to charge 'much mor...  ...      1\n",
              "23486  White House, Congress prepare for talks on spe...  ...      1\n",
              "\n",
              "[11 rows x 5 columns]"
            ]
          },
          "metadata": {
            "tags": []
          }
        }
      ]
    },
    {
      "cell_type": "code",
      "metadata": {
        "id": "PJZkdBDmKpmM"
      },
      "source": [
        "# we drop the columns which we do not need\n",
        "data = data.drop(['title', 'subject', 'date'], axis = 1)"
      ],
      "execution_count": null,
      "outputs": []
    },
    {
      "cell_type": "code",
      "metadata": {
        "colab": {
          "base_uri": "https://localhost:8080/"
        },
        "id": "LkqgP6hqLYuS",
        "outputId": "cdb2d871-13a8-4f17-c0d6-587e36d101e1"
      },
      "source": [
        "data.columns"
      ],
      "execution_count": null,
      "outputs": [
        {
          "output_type": "execute_result",
          "data": {
            "text/plain": [
              "Index(['text', 'target'], dtype='object')"
            ]
          },
          "metadata": {
            "tags": []
          },
          "execution_count": 22
        }
      ]
    },
    {
      "cell_type": "markdown",
      "metadata": {
        "id": "gZvCGzpLN9UE"
      },
      "source": [
        "###**Tokenize**\n"
      ]
    },
    {
      "cell_type": "code",
      "metadata": {
        "id": "X1yOeWX0LgpU"
      },
      "source": [
        "from nltk.tokenize import word_tokenize"
      ],
      "execution_count": null,
      "outputs": []
    },
    {
      "cell_type": "code",
      "metadata": {
        "id": "lAJWSIduLy7d"
      },
      "source": [
        "data['text'] = data['text'].apply(word_tokenize)"
      ],
      "execution_count": null,
      "outputs": []
    },
    {
      "cell_type": "code",
      "metadata": {
        "colab": {
          "base_uri": "https://localhost:8080/",
          "height": 359
        },
        "id": "aRSO5DxzMANr",
        "outputId": "3e6265b7-d33c-4be7-f491-9fc275cc924d"
      },
      "source": [
        "display(data.head(10))"
      ],
      "execution_count": null,
      "outputs": [
        {
          "output_type": "display_data",
          "data": {
            "text/html": [
              "<div>\n",
              "<style scoped>\n",
              "    .dataframe tbody tr th:only-of-type {\n",
              "        vertical-align: middle;\n",
              "    }\n",
              "\n",
              "    .dataframe tbody tr th {\n",
              "        vertical-align: top;\n",
              "    }\n",
              "\n",
              "    .dataframe thead th {\n",
              "        text-align: right;\n",
              "    }\n",
              "</style>\n",
              "<table border=\"1\" class=\"dataframe\">\n",
              "  <thead>\n",
              "    <tr style=\"text-align: right;\">\n",
              "      <th></th>\n",
              "      <th>text</th>\n",
              "      <th>target</th>\n",
              "    </tr>\n",
              "  </thead>\n",
              "  <tbody>\n",
              "    <tr>\n",
              "      <th>0</th>\n",
              "      <td>[Donald, Trump, just, couldn, t, wish, all, Am...</td>\n",
              "      <td>0</td>\n",
              "    </tr>\n",
              "    <tr>\n",
              "      <th>1</th>\n",
              "      <td>[House, Intelligence, Committee, Chairman, Dev...</td>\n",
              "      <td>0</td>\n",
              "    </tr>\n",
              "    <tr>\n",
              "      <th>2</th>\n",
              "      <td>[On, Friday, ,, it, was, revealed, that, forme...</td>\n",
              "      <td>0</td>\n",
              "    </tr>\n",
              "    <tr>\n",
              "      <th>3</th>\n",
              "      <td>[On, Christmas, day, ,, Donald, Trump, announc...</td>\n",
              "      <td>0</td>\n",
              "    </tr>\n",
              "    <tr>\n",
              "      <th>4</th>\n",
              "      <td>[Pope, Francis, used, his, annual, Christmas, ...</td>\n",
              "      <td>0</td>\n",
              "    </tr>\n",
              "    <tr>\n",
              "      <th>5</th>\n",
              "      <td>[The, number, of, cases, of, cops, brutalizing...</td>\n",
              "      <td>0</td>\n",
              "    </tr>\n",
              "    <tr>\n",
              "      <th>6</th>\n",
              "      <td>[Donald, Trump, spent, a, good, portion, of, h...</td>\n",
              "      <td>0</td>\n",
              "    </tr>\n",
              "    <tr>\n",
              "      <th>7</th>\n",
              "      <td>[In, the, wake, of, yet, another, court, decis...</td>\n",
              "      <td>0</td>\n",
              "    </tr>\n",
              "    <tr>\n",
              "      <th>8</th>\n",
              "      <td>[Many, people, have, raised, the, alarm, regar...</td>\n",
              "      <td>0</td>\n",
              "    </tr>\n",
              "    <tr>\n",
              "      <th>9</th>\n",
              "      <td>[Just, when, you, might, have, thought, we, d,...</td>\n",
              "      <td>0</td>\n",
              "    </tr>\n",
              "  </tbody>\n",
              "</table>\n",
              "</div>"
            ],
            "text/plain": [
              "                                                text  target\n",
              "0  [Donald, Trump, just, couldn, t, wish, all, Am...       0\n",
              "1  [House, Intelligence, Committee, Chairman, Dev...       0\n",
              "2  [On, Friday, ,, it, was, revealed, that, forme...       0\n",
              "3  [On, Christmas, day, ,, Donald, Trump, announc...       0\n",
              "4  [Pope, Francis, used, his, annual, Christmas, ...       0\n",
              "5  [The, number, of, cases, of, cops, brutalizing...       0\n",
              "6  [Donald, Trump, spent, a, good, portion, of, h...       0\n",
              "7  [In, the, wake, of, yet, another, court, decis...       0\n",
              "8  [Many, people, have, raised, the, alarm, regar...       0\n",
              "9  [Just, when, you, might, have, thought, we, d,...       0"
            ]
          },
          "metadata": {
            "tags": []
          }
        }
      ]
    },
    {
      "cell_type": "markdown",
      "metadata": {
        "id": "N7HLpN8XOXvI"
      },
      "source": [
        "###**Stemming**"
      ]
    },
    {
      "cell_type": "code",
      "metadata": {
        "id": "ApN7MbkbMXFv"
      },
      "source": [
        "from nltk.stem.snowball import SnowballStemmer      # https://www.geeksforgeeks.org/snowball-stemmer-nlp/\n",
        "porter = SnowballStemmer('english')"
      ],
      "execution_count": null,
      "outputs": []
    },
    {
      "cell_type": "code",
      "metadata": {
        "id": "TuwdezVcNkeT"
      },
      "source": [
        "def stem_it(text):\n",
        "  return [porter.stem(word) for word in text]"
      ],
      "execution_count": null,
      "outputs": []
    },
    {
      "cell_type": "code",
      "metadata": {
        "id": "JPh8bjIJNsy3"
      },
      "source": [
        "data['text'] = data['text'].apply(stem_it)"
      ],
      "execution_count": null,
      "outputs": []
    },
    {
      "cell_type": "code",
      "metadata": {
        "colab": {
          "base_uri": "https://localhost:8080/"
        },
        "id": "tcMjR_xuNz2H",
        "outputId": "e967053b-5e1e-4dfc-9500-c8de949c5b51"
      },
      "source": [
        "print(data.head(10))"
      ],
      "execution_count": null,
      "outputs": [
        {
          "output_type": "stream",
          "text": [
            "                                                text  target\n",
            "0  [donald, trump, just, couldn, t, wish, all, am...       0\n",
            "1  [hous, intellig, committe, chairman, devin, nu...       0\n",
            "2  [on, friday, ,, it, was, reveal, that, former,...       0\n",
            "3  [on, christma, day, ,, donald, trump, announc,...       0\n",
            "4  [pope, franci, use, his, annual, christma, day...       0\n",
            "5  [the, number, of, case, of, cop, brutal, and, ...       0\n",
            "6  [donald, trump, spent, a, good, portion, of, h...       0\n",
            "7  [in, the, wake, of, yet, anoth, court, decis, ...       0\n",
            "8  [mani, peopl, have, rais, the, alarm, regard, ...       0\n",
            "9  [just, when, you, might, have, thought, we, d,...       0\n"
          ],
          "name": "stdout"
        }
      ]
    },
    {
      "cell_type": "markdown",
      "metadata": {
        "id": "XUV2gvYGPvUq"
      },
      "source": [
        "###**Stopword Removal**"
      ]
    },
    {
      "cell_type": "code",
      "metadata": {
        "id": "i9bbmCt1Pztk"
      },
      "source": [
        "# use the following lines to import stopwords from nltk library\n",
        "# import nltk\n",
        "# from nltk.corpus import stopwords\n",
        "# nltk.download('stopwords')\n",
        "# print(stopwords.words('english'))"
      ],
      "execution_count": null,
      "outputs": []
    },
    {
      "cell_type": "code",
      "metadata": {
        "id": "bMA7v3lmQHd5"
      },
      "source": [
        "# here we remove the words which have length less than 2 (that means that we are considering those words as stopwords which have length less than 2)\n",
        "def stop_it(text):\n",
        "  dt = [word for word in text if len(word) > 2]\n",
        "  return dt\n",
        "# we can also use the above approach it is not mandatory to use this approach or we can create our own stopword removal function"
      ],
      "execution_count": null,
      "outputs": []
    },
    {
      "cell_type": "code",
      "metadata": {
        "id": "W4nIHOK6QT00"
      },
      "source": [
        "data['text'] = data['text'].apply(stop_it)"
      ],
      "execution_count": null,
      "outputs": []
    },
    {
      "cell_type": "code",
      "metadata": {
        "colab": {
          "base_uri": "https://localhost:8080/"
        },
        "id": "mBNiTvYUQlZX",
        "outputId": "36286a50-bcc7-46d9-e176-51f4099fbe36"
      },
      "source": [
        "print(data.head(10))"
      ],
      "execution_count": null,
      "outputs": [
        {
          "output_type": "stream",
          "text": [
            "                                                text  target\n",
            "0  [donald, trump, just, couldn, wish, all, ameri...       0\n",
            "1  [hous, intellig, committe, chairman, devin, nu...       0\n",
            "2  [friday, was, reveal, that, former, milwauke, ...       0\n",
            "3  [christma, day, donald, trump, announc, that, ...       0\n",
            "4  [pope, franci, use, his, annual, christma, day...       0\n",
            "5  [the, number, case, cop, brutal, and, kill, pe...       0\n",
            "6  [donald, trump, spent, good, portion, his, day...       0\n",
            "7  [the, wake, yet, anoth, court, decis, that, de...       0\n",
            "8  [mani, peopl, have, rais, the, alarm, regard, ...       0\n",
            "9  [just, when, you, might, have, thought, get, b...       0\n"
          ],
          "name": "stdout"
        }
      ]
    },
    {
      "cell_type": "code",
      "metadata": {
        "id": "WnWQHqqqQpl0"
      },
      "source": [
        "data['text'] = data['text'].apply(' '.join)"
      ],
      "execution_count": null,
      "outputs": []
    },
    {
      "cell_type": "code",
      "metadata": {
        "colab": {
          "base_uri": "https://localhost:8080/"
        },
        "id": "b2j1Uo-lQ7RC",
        "outputId": "b5bbcd7e-ff97-46af-fdc9-a4db5fed9f6c"
      },
      "source": [
        "print(data.head(10))"
      ],
      "execution_count": null,
      "outputs": [
        {
          "output_type": "stream",
          "text": [
            "                                                text  target\n",
            "0  donald trump just couldn wish all american hap...       0\n",
            "1  hous intellig committe chairman devin nune hav...       0\n",
            "2  friday was reveal that former milwauke sheriff...       0\n",
            "3  christma day donald trump announc that would b...       0\n",
            "4  pope franci use his annual christma day messag...       0\n",
            "5  the number case cop brutal and kill peopl colo...       0\n",
            "6  donald trump spent good portion his day his go...       0\n",
            "7  the wake yet anoth court decis that derail don...       0\n",
            "8  mani peopl have rais the alarm regard the fact...       0\n",
            "9  just when you might have thought get break fro...       0\n"
          ],
          "name": "stdout"
        }
      ]
    },
    {
      "cell_type": "markdown",
      "metadata": {
        "id": "C31A8oUWRFTj"
      },
      "source": [
        "###**Splitting the data**"
      ]
    },
    {
      "cell_type": "code",
      "metadata": {
        "id": "3M9066XgRJmq"
      },
      "source": [
        "from sklearn.model_selection import train_test_split\n",
        "x_train, x_test, y_train, y_test = train_test_split(data['text'], data['target'])"
      ],
      "execution_count": null,
      "outputs": []
    },
    {
      "cell_type": "code",
      "metadata": {
        "colab": {
          "base_uri": "https://localhost:8080/"
        },
        "id": "UUG0XIbxReiM",
        "outputId": "8b7cb5c4-dc2f-40e3-ebb9-106a7790f5aa"
      },
      "source": [
        "print(\"Size of x_train: \", len(x_train))\n",
        "print(\"Size of y_train: \", len(y_train))\n",
        "print(\"Size of x_test: \", len(x_test))\n",
        "print(\"Size of y_test: \", len(y_test))"
      ],
      "execution_count": null,
      "outputs": [
        {
          "output_type": "stream",
          "text": [
            "Size of x_train:  33673\n",
            "Size of y_train:  33673\n",
            "Size of x_test:  11225\n",
            "Size of y_test:  11225\n"
          ],
          "name": "stdout"
        }
      ]
    },
    {
      "cell_type": "code",
      "metadata": {
        "colab": {
          "base_uri": "https://localhost:8080/"
        },
        "id": "R3zBS_zhRweI",
        "outputId": "0c78cf04-037a-4de8-95cb-f480329fcdf0"
      },
      "source": [
        "print(x_train.head())\n",
        "print('\\n')\n",
        "print(y_train.head())"
      ],
      "execution_count": null,
      "outputs": [
        {
          "output_type": "stream",
          "text": [
            "44561    new delhi reuter indian polic are investig whe...\n",
            "40179    lubumbashi democrat republ congo reuter the u....\n",
            "23036    21st centuri wire say more than ngo partner th...\n",
            "38817    harar reuter zimbabw presid robert mugab said ...\n",
            "6113     brittni darra teach english rampart high schoo...\n",
            "Name: text, dtype: object\n",
            "\n",
            "\n",
            "44561    1\n",
            "40179    1\n",
            "23036    0\n",
            "38817    1\n",
            "6113     0\n",
            "Name: target, dtype: int64\n"
          ],
          "name": "stdout"
        }
      ]
    },
    {
      "cell_type": "markdown",
      "metadata": {
        "id": "wfF8y2jVUATw"
      },
      "source": [
        "###**Vectorization**"
      ]
    },
    {
      "cell_type": "code",
      "metadata": {
        "id": "1U8bHy5OUEyd"
      },
      "source": [
        "from sklearn.feature_extraction.text import TfidfVectorizer\n",
        "my_tfidf = TfidfVectorizer(max_df = 0.7) # max_df: When building the vocabulary ignore terms that have a document frequency strictly higher than the given threshold\n",
        "tfidf_train = my_tfidf.fit_transform(x_train)\n",
        "tfidf_test = my_tfidf.transform(x_test)\n",
        "# difference between transform and fit_transform\n",
        "# https://stackoverflow.com/questions/23838056/what-is-the-difference-between-transform-and-fit-transform-in-sklearn#:~:text=In%20layman's%20terms%2C%20fit_transform%20means,both%20calculate%20and%20do%20transformation.\n"
      ],
      "execution_count": null,
      "outputs": []
    },
    {
      "cell_type": "code",
      "metadata": {
        "colab": {
          "base_uri": "https://localhost:8080/"
        },
        "id": "B8MR9eATWCYN",
        "outputId": "c9a424a7-5c62-404d-c65c-cbaf4bc6eaab"
      },
      "source": [
        "print(tfidf_train)"
      ],
      "execution_count": null,
      "outputs": [
        {
          "output_type": "stream",
          "text": [
            "  (0, 8170)\t0.03809776769570778\n",
            "  (0, 38089)\t0.037022494170171734\n",
            "  (0, 51443)\t0.018106817503303996\n",
            "  (0, 87275)\t0.03830417442023024\n",
            "  (0, 41365)\t0.028695662058114225\n",
            "  (0, 37753)\t0.011925194392974547\n",
            "  (0, 55169)\t0.06065736064395437\n",
            "  (0, 57115)\t0.06109915487648181\n",
            "  (0, 54573)\t0.026067735935147076\n",
            "  (0, 65601)\t0.030441044719660203\n",
            "  (0, 90540)\t0.015818777541631444\n",
            "  (0, 68347)\t0.02435876884227726\n",
            "  (0, 41698)\t0.04159007889139456\n",
            "  (0, 25793)\t0.07630802747505404\n",
            "  (0, 64130)\t0.05053867942017813\n",
            "  (0, 77908)\t0.02388203298294976\n",
            "  (0, 61426)\t0.07774688087695698\n",
            "  (0, 68641)\t0.03243098798684918\n",
            "  (0, 30647)\t0.02481129131464861\n",
            "  (0, 78581)\t0.03399971668088829\n",
            "  (0, 89569)\t0.02370320789114739\n",
            "  (0, 50437)\t0.050244465264109486\n",
            "  (0, 9691)\t0.02755772995730217\n",
            "  (0, 34309)\t0.056609172763900276\n",
            "  (0, 63142)\t0.026798491947970786\n",
            "  :\t:\n",
            "  (33672, 69572)\t0.03606011104910911\n",
            "  (33672, 53423)\t0.05996138398372913\n",
            "  (33672, 65429)\t0.034310120057709934\n",
            "  (33672, 37753)\t0.04330238730692973\n",
            "  (33672, 54573)\t0.1262084469212524\n",
            "  (33672, 65601)\t0.036845518405269874\n",
            "  (33672, 7421)\t0.05205881232062193\n",
            "  (33672, 33312)\t0.04380575660559736\n",
            "  (33672, 88385)\t0.019279220600278757\n",
            "  (33672, 37026)\t0.03645085212658087\n",
            "  (33672, 81195)\t0.020464604647536962\n",
            "  (33672, 9109)\t0.019559453344702556\n",
            "  (33672, 88189)\t0.029275714420491674\n",
            "  (33672, 81111)\t0.023117331246165787\n",
            "  (33672, 68559)\t0.04373000456011249\n",
            "  (33672, 81365)\t0.015061095043029368\n",
            "  (33672, 9319)\t0.01951197492607583\n",
            "  (33672, 59159)\t0.04334470976938783\n",
            "  (33672, 82125)\t0.04348869142079804\n",
            "  (33672, 69199)\t0.021543653992960106\n",
            "  (33672, 35740)\t0.02301532663807306\n",
            "  (33672, 8246)\t0.05504745956346731\n",
            "  (33672, 88627)\t0.018459635828331298\n",
            "  (33672, 10787)\t0.015766880108413272\n",
            "  (33672, 69594)\t0.03605810911283031\n"
          ],
          "name": "stdout"
        }
      ]
    },
    {
      "cell_type": "markdown",
      "metadata": {
        "id": "KlUXaCm2WoTW"
      },
      "source": [
        "###**Logistic Regression**"
      ]
    },
    {
      "cell_type": "code",
      "metadata": {
        "id": "l3CbSrISWHjj"
      },
      "source": [
        "from sklearn.linear_model import LogisticRegression\n",
        "from sklearn.metrics import accuracy_score"
      ],
      "execution_count": null,
      "outputs": []
    },
    {
      "cell_type": "code",
      "metadata": {
        "colab": {
          "base_uri": "https://localhost:8080/"
        },
        "id": "btkQvlQSYcvC",
        "outputId": "08027676-1d2f-4cf8-eaf5-260f88086739"
      },
      "source": [
        "model_l = LogisticRegression(max_iter=900) \n",
        "model_l.fit(tfidf_train, y_train)\n",
        "pred_l = model_l.predict(tfidf_test)\n",
        "accuracyscore_l = accuracy_score(y_test, pred_l)      # return score of correctly classified samples\n",
        "print(\"The accuracy of LogisticRegression is: \", accuracyscore_l)"
      ],
      "execution_count": null,
      "outputs": [
        {
          "output_type": "stream",
          "text": [
            "The accuracy of LogisticRegression is:  0.9889532293986637\n"
          ],
          "name": "stdout"
        }
      ]
    },
    {
      "cell_type": "markdown",
      "metadata": {
        "id": "TbGM7_lzaDb_"
      },
      "source": [
        "###**Passive Aggressive Classifier**"
      ]
    },
    {
      "cell_type": "code",
      "metadata": {
        "id": "wBNXiuXDZ-Zq"
      },
      "source": [
        "from sklearn.linear_model import PassiveAggressiveClassifier"
      ],
      "execution_count": null,
      "outputs": []
    },
    {
      "cell_type": "code",
      "metadata": {
        "colab": {
          "base_uri": "https://localhost:8080/"
        },
        "id": "xJpxloEqa70S",
        "outputId": "3c31caa5-1c72-44c3-db4d-b34115de7c02"
      },
      "source": [
        "model = PassiveAggressiveClassifier(max_iter = 50)\n",
        "model.fit(tfidf_train, y_train)"
      ],
      "execution_count": null,
      "outputs": [
        {
          "output_type": "execute_result",
          "data": {
            "text/plain": [
              "PassiveAggressiveClassifier(C=1.0, average=False, class_weight=None,\n",
              "                            early_stopping=False, fit_intercept=True,\n",
              "                            loss='hinge', max_iter=50, n_iter_no_change=5,\n",
              "                            n_jobs=None, random_state=None, shuffle=True,\n",
              "                            tol=0.001, validation_fraction=0.1, verbose=0,\n",
              "                            warm_start=False)"
            ]
          },
          "metadata": {
            "tags": []
          },
          "execution_count": 43
        }
      ]
    },
    {
      "cell_type": "code",
      "metadata": {
        "colab": {
          "base_uri": "https://localhost:8080/"
        },
        "id": "KMg_L5NUbGjz",
        "outputId": "2f8fc4ec-1525-4e38-f078-d695be978a67"
      },
      "source": [
        "y_pred = model.predict(tfidf_test)\n",
        "accuracyscore = accuracy_score(y_test, y_pred)\n",
        "print(\"The accuracy of PassiveAggressiveClassifier is: \", accuracyscore)"
      ],
      "execution_count": null,
      "outputs": [
        {
          "output_type": "stream",
          "text": [
            "The accuracy of PassiveAggressiveClassifier is:  0.9960801781737194\n"
          ],
          "name": "stdout"
        }
      ]
    },
    {
      "cell_type": "code",
      "metadata": {
        "id": "JDsyidhvbrF6"
      },
      "source": [
        ""
      ],
      "execution_count": null,
      "outputs": []
    }
  ]
}